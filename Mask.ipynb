{
 "cells": [
  {
   "cell_type": "code",
   "execution_count": 1,
   "id": "5a55ee6c",
   "metadata": {},
   "outputs": [],
   "source": [
    "# import the necessary packages\n",
    "from tensorflow.keras.preprocessing.image import ImageDataGenerator\n",
    "from tensorflow.keras.applications import MobileNetV2\n",
    "from tensorflow.keras.layers import AveragePooling2D\n",
    "from tensorflow.keras.layers import Dropout\n",
    "from tensorflow.keras.layers import Flatten\n",
    "from tensorflow.keras.layers import Dense\n",
    "from tensorflow.keras.layers import Input\n",
    "from tensorflow.keras.models import Model\n",
    "from tensorflow.keras.optimizers import Adam\n",
    "from tensorflow.keras.applications.mobilenet_v2 import preprocess_input\n",
    "from tensorflow.keras.preprocessing.image import img_to_array\n",
    "from tensorflow.keras.preprocessing.image import load_img\n",
    "from tensorflow.keras.utils import to_categorical\n",
    "from sklearn.preprocessing import LabelBinarizer\n",
    "from sklearn.model_selection import train_test_split\n",
    "from sklearn.metrics import classification_report\n",
    "from imutils import paths\n",
    "import matplotlib.pyplot as plt\n",
    "import numpy as np\n",
    "import os"
   ]
  },
  {
   "cell_type": "code",
   "execution_count": 2,
   "id": "a6ee3a2d",
   "metadata": {},
   "outputs": [],
   "source": [
    "# initialize the initial learning rate, number of epochs to train for, and batch size\n",
    "INIT_LR = 1e-4\n",
    "EPOCHS = 20\n",
    "BS = 32"
   ]
  },
  {
   "cell_type": "code",
   "execution_count": 3,
   "id": "ead50216",
   "metadata": {},
   "outputs": [],
   "source": [
    "DIRECTORY = r\"C:\\Users\\1412r\\Desktop\\FaceMaskDetection\\dataset\"\n",
    "CATEGORIES = [\"with_mask\", \"without_mask\"]"
   ]
  },
  {
   "cell_type": "code",
   "execution_count": 4,
   "id": "eceba78c",
   "metadata": {},
   "outputs": [
    {
     "name": "stderr",
     "output_type": "stream",
     "text": [
      "C:\\Users\\1412r\\anaconda3\\lib\\site-packages\\PIL\\Image.py:945: UserWarning: Palette images with Transparency expressed in bytes should be converted to RGBA images\n",
      "  warnings.warn(\n"
     ]
    }
   ],
   "source": [
    "# grab the list of images in our dataset directory, then initialize the list of data (i.e., images) and class images\n",
    "#print(\"[INFO] loading images...\")\n",
    "\n",
    "data = []\n",
    "labels = []\n",
    "\n",
    "for category in CATEGORIES:\n",
    "    path = os.path.join(DIRECTORY, category)\n",
    "    for img in os.listdir(path):\n",
    "        img_path = os.path.join(path, img)\n",
    "        image = load_img(img_path, target_size=(224, 224))\n",
    "        image = img_to_array(image)\n",
    "        image = preprocess_input(image)\n",
    "\n",
    "        data.append(image)\n",
    "        labels.append(category)"
   ]
  },
  {
   "cell_type": "code",
   "execution_count": 5,
   "id": "ba95d763",
   "metadata": {},
   "outputs": [],
   "source": [
    "# perform one-hot encoding on the labels\n",
    "lb = LabelBinarizer()\n",
    "labels = lb.fit_transform(labels)\n",
    "labels = to_categorical(labels)\n",
    "\n",
    "data = np.array(data, dtype=\"float32\")\n",
    "labels = np.array(labels)"
   ]
  },
  {
   "cell_type": "code",
   "execution_count": 6,
   "id": "58f069aa",
   "metadata": {},
   "outputs": [],
   "source": [
    "(trainX, testX, trainY, testY) = train_test_split(data, labels,\n",
    "    test_size=0.25, stratify=labels, random_state=17)"
   ]
  },
  {
   "cell_type": "code",
   "execution_count": 7,
   "id": "fc7c5ff3",
   "metadata": {},
   "outputs": [],
   "source": [
    "# construct the training image generator for data augmentation\n",
    "aug = ImageDataGenerator(\n",
    "    rotation_range=20,\n",
    "    zoom_range=0.15,\n",
    "    width_shift_range=0.2,\n",
    "    height_shift_range=0.2,\n",
    "    shear_range=0.15,\n",
    "    horizontal_flip=True,\n",
    "    fill_mode=\"nearest\")"
   ]
  },
  {
   "cell_type": "code",
   "execution_count": 10,
   "id": "b8fc8b49",
   "metadata": {},
   "outputs": [
    {
     "name": "stdout",
     "output_type": "stream",
     "text": [
      "WARNING:tensorflow:`input_shape` is undefined or non-square, or `rows` is not in [96, 128, 160, 192, 224]. Weights for input shape (224, 224) will be loaded as the default.\n"
     ]
    },
    {
     "name": "stderr",
     "output_type": "stream",
     "text": [
      "WARNING:tensorflow:`input_shape` is undefined or non-square, or `rows` is not in [96, 128, 160, 192, 224]. Weights for input shape (224, 224) will be loaded as the default.\n"
     ]
    }
   ],
   "source": [
    "# load the MobileNetV2 network, ensuring the head FC layer sets are left off\n",
    "baseModel = MobileNetV2(weights=\"imagenet\", include_top=False, input_tensor=Input(shape=(224, 224, 3)))\n",
    "\n",
    "# construct the head of the model that will be placed on top of the base model\n",
    "headModel = baseModel.output\n",
    "headModel = AveragePooling2D(pool_size=(7, 7))(headModel)\n",
    "headModel = Flatten(name=\"flatten\")(headModel)\n",
    "headModel = Dense(128, activation=\"relu\")(headModel)\n",
    "headModel = Dropout(0.5)(headModel)\n",
    "headModel = Dense(2, activation=\"softmax\")(headModel)"
   ]
  },
  {
   "cell_type": "code",
   "execution_count": 11,
   "id": "c2dc1bd3",
   "metadata": {},
   "outputs": [
    {
     "name": "stdout",
     "output_type": "stream",
     "text": [
      "[INFO] compiling model...\n"
     ]
    }
   ],
   "source": [
    "# place the head FC model on top of the base model (this will become\n",
    "# the actual model we will train)\n",
    "model = Model(inputs=baseModel.input, outputs=headModel)\n",
    "\n",
    "# loop over all layers in the base model and freeze them so they will\n",
    "# *not* be updated during the first training process\n",
    "for layer in baseModel.layers:\n",
    "    layer.trainable = False\n",
    "\n",
    "# compile our model\n",
    "print(\"[INFO] compiling model...\")\n",
    "from tensorflow.keras.optimizers.legacy import Adam  # Use legacy optimizers for backward compatibility\n",
    "\n",
    "opt = Adam(learning_rate=INIT_LR)\n",
    "model.compile(loss=\"binary_crossentropy\", optimizer=opt, metrics=[\"accuracy\"])"
   ]
  },
  {
   "cell_type": "code",
   "execution_count": 12,
   "id": "25e9ca0a",
   "metadata": {},
   "outputs": [
    {
     "name": "stdout",
     "output_type": "stream",
     "text": [
      "[INFO] training head...\n",
      "Epoch 1/20\n",
      "89/89 [==============================] - 90s 981ms/step - loss: 0.4313 - accuracy: 0.8427 - val_loss: 0.1900 - val_accuracy: 0.9625\n",
      "Epoch 2/20\n",
      "89/89 [==============================] - 93s 1s/step - loss: 0.1543 - accuracy: 0.9673 - val_loss: 0.0940 - val_accuracy: 0.9854\n",
      "Epoch 3/20\n",
      "89/89 [==============================] - 88s 987ms/step - loss: 0.1059 - accuracy: 0.9754 - val_loss: 0.0670 - val_accuracy: 0.9885\n",
      "Epoch 4/20\n",
      "89/89 [==============================] - 86s 969ms/step - loss: 0.0836 - accuracy: 0.9768 - val_loss: 0.0552 - val_accuracy: 0.9875\n",
      "Epoch 5/20\n",
      "89/89 [==============================] - 85s 950ms/step - loss: 0.0638 - accuracy: 0.9821 - val_loss: 0.0569 - val_accuracy: 0.9854\n",
      "Epoch 6/20\n",
      "89/89 [==============================] - 84s 948ms/step - loss: 0.0648 - accuracy: 0.9803 - val_loss: 0.0487 - val_accuracy: 0.9875\n",
      "Epoch 7/20\n",
      "89/89 [==============================] - 87s 978ms/step - loss: 0.0541 - accuracy: 0.9849 - val_loss: 0.0446 - val_accuracy: 0.9885\n",
      "Epoch 8/20\n",
      "89/89 [==============================] - 85s 958ms/step - loss: 0.0467 - accuracy: 0.9877 - val_loss: 0.0450 - val_accuracy: 0.9875\n",
      "Epoch 9/20\n",
      "89/89 [==============================] - 92s 1s/step - loss: 0.0447 - accuracy: 0.9870 - val_loss: 0.0422 - val_accuracy: 0.9875\n",
      "Epoch 10/20\n",
      "89/89 [==============================] - 98s 1s/step - loss: 0.0455 - accuracy: 0.9852 - val_loss: 0.0453 - val_accuracy: 0.9864\n",
      "Epoch 11/20\n",
      "89/89 [==============================] - 94s 1s/step - loss: 0.0404 - accuracy: 0.9894 - val_loss: 0.0382 - val_accuracy: 0.9875\n",
      "Epoch 12/20\n",
      "89/89 [==============================] - 97s 1s/step - loss: 0.0384 - accuracy: 0.9901 - val_loss: 0.0430 - val_accuracy: 0.9864\n",
      "Epoch 13/20\n",
      "89/89 [==============================] - 101s 1s/step - loss: 0.0387 - accuracy: 0.9898 - val_loss: 0.0368 - val_accuracy: 0.9885\n",
      "Epoch 14/20\n",
      "89/89 [==============================] - 87s 979ms/step - loss: 0.0334 - accuracy: 0.9912 - val_loss: 0.0391 - val_accuracy: 0.9875\n",
      "Epoch 15/20\n",
      "89/89 [==============================] - 89s 1s/step - loss: 0.0323 - accuracy: 0.9898 - val_loss: 0.0365 - val_accuracy: 0.9906\n",
      "Epoch 16/20\n",
      "89/89 [==============================] - 88s 993ms/step - loss: 0.0334 - accuracy: 0.9891 - val_loss: 0.0435 - val_accuracy: 0.9833\n",
      "Epoch 17/20\n",
      "89/89 [==============================] - 79s 886ms/step - loss: 0.0312 - accuracy: 0.9916 - val_loss: 0.0347 - val_accuracy: 0.9906\n",
      "Epoch 18/20\n",
      "89/89 [==============================] - 78s 878ms/step - loss: 0.0317 - accuracy: 0.9926 - val_loss: 0.0375 - val_accuracy: 0.9875\n",
      "Epoch 19/20\n",
      "89/89 [==============================] - 81s 914ms/step - loss: 0.0284 - accuracy: 0.9905 - val_loss: 0.0378 - val_accuracy: 0.9875\n",
      "Epoch 20/20\n",
      "89/89 [==============================] - 78s 876ms/step - loss: 0.0282 - accuracy: 0.9909 - val_loss: 0.0387 - val_accuracy: 0.9864\n"
     ]
    }
   ],
   "source": [
    "# train the head of the network\n",
    "print(\"[INFO] training head...\")\n",
    "H = model.fit(\n",
    "    aug.flow(trainX, trainY, batch_size=BS),\n",
    "    steps_per_epoch=len(trainX) // BS,\n",
    "    validation_data=(testX, testY),\n",
    "    validation_steps=len(testX) // BS,\n",
    "    epochs=EPOCHS)"
   ]
  },
  {
   "cell_type": "code",
   "execution_count": 13,
   "id": "4a22cb61",
   "metadata": {},
   "outputs": [
    {
     "name": "stdout",
     "output_type": "stream",
     "text": [
      "[INFO] evaluating network...\n",
      "30/30 [==============================] - 25s 727ms/step\n"
     ]
    }
   ],
   "source": [
    "# make predictions on the testing set\n",
    "print(\"[INFO] evaluating network...\")\n",
    "predIdxs = model.predict(testX, batch_size=BS)"
   ]
  },
  {
   "cell_type": "code",
   "execution_count": 14,
   "id": "7fd1d617",
   "metadata": {},
   "outputs": [
    {
     "name": "stdout",
     "output_type": "stream",
     "text": [
      "              precision    recall  f1-score   support\n",
      "\n",
      "   with_mask       0.98      0.99      0.99       479\n",
      "without_mask       0.99      0.98      0.99       480\n",
      "\n",
      "    accuracy                           0.99       959\n",
      "   macro avg       0.99      0.99      0.99       959\n",
      "weighted avg       0.99      0.99      0.99       959\n",
      "\n"
     ]
    }
   ],
   "source": [
    "# for each image in the testing set we need to find the index of the label with corresponding largest predicted probability\n",
    "predIdxs = np.argmax(predIdxs, axis=1)\n",
    "\n",
    "# showing a classification report of the model\n",
    "print(classification_report(testY.argmax(axis=1), predIdxs,\n",
    "    target_names=lb.classes_))"
   ]
  },
  {
   "cell_type": "code",
   "execution_count": 15,
   "id": "8a2a7164",
   "metadata": {},
   "outputs": [
    {
     "name": "stdout",
     "output_type": "stream",
     "text": [
      "[INFO] saving mask detector model...\n"
     ]
    }
   ],
   "source": [
    "# serialize the model to disk\n",
    "print(\"[INFO] saving mask detector model...\")\n",
    "model.save(\"mask_detector.model\", save_format=\"h5\")"
   ]
  },
  {
   "cell_type": "code",
   "execution_count": 16,
   "id": "c6358fe5",
   "metadata": {},
   "outputs": [
    {
     "data": {
      "image/png": "[encoded data removed]",
      "text/plain": [
       "<Figure size 432x288 with 1 Axes>"
      ]
     },
     "metadata": {
      "needs_background": "light"
     },
     "output_type": "display_data"
    }
   ],
   "source": [
    "# plot the training loss and accuracy\n",
    "N = EPOCHS\n",
    "plt.style.use(\"ggplot\")\n",
    "plt.figure()\n",
    "plt.plot(np.arange(0, N), H.history[\"loss\"], label=\"train_loss\")\n",
    "plt.plot(np.arange(0, N), H.history[\"val_loss\"], label=\"val_loss\")\n",
    "plt.plot(np.arange(0, N), H.history[\"accuracy\"], label=\"train_acc\")\n",
    "plt.plot(np.arange(0, N), H.history[\"val_accuracy\"], label=\"val_acc\")\n",
    "plt.title(\"Training Loss and Accuracy\")\n",
    "plt.xlabel(\"Epoch #\")\n",
    "plt.ylabel(\"Loss/Accuracy\")\n",
    "plt.legend(loc=\"lower left\")\n",
    "plt.savefig(\"plot.png\")"
   ]
  },
  {
   "cell_type": "code",
   "execution_count": null,
   "id": "6e23ef3a",
   "metadata": {},
   "outputs": [],
   "source": []
  }
 ],
 "metadata": {
  "kernelspec": {
   "display_name": "Python 3 (ipykernel)",
   "language": "python",
   "name": "python3"
  },
  "language_info": {
   "codemirror_mode": {
    "name": "ipython",
    "version": 3
   },
   "file_extension": ".py",
   "mimetype": "text/x-python",
   "name": "python",
   "nbconvert_exporter": "python",
   "pygments_lexer": "ipython3",
   "version": "3.9.12"
  }
 },
 "nbformat": 4,
 "nbformat_minor": 5
}
